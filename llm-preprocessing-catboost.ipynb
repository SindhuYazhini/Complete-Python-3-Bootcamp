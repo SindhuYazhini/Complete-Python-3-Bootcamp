{
 "cells": [
  {
   "cell_type": "markdown",
   "id": "cbd1b236",
   "metadata": {
    "papermill": {
     "duration": 0.010608,
     "end_time": "2024-03-09T21:33:50.771051",
     "exception": false,
     "start_time": "2024-03-09T21:33:50.760443",
     "status": "completed"
    },
    "tags": []
   },
   "source": [
    "## 🚀**Introduction** <a class=\"anchor\"  id=\"h1\"></a>\n",
    "\n",
    "<div class = \"alert alert-info\">\n",
    "This notebook delves into the task of identifying <b>AI-generated text</b> within a dataset. Commencing by loading and exploring datasets, including test essays and extended training data. Employing advanced tokenization techniques like <b>Byte-Pair Encoding (BPE)</b> and <b>TF-IDF vectorization</b>, enhancing text representations for subsequent model training. Utilizing classifiers such as <b>Multinomial Naive Bayes, Stochastic Gradient Descent, LightGBM, and CatBoost</b>, creating an ensemble model with a <b>Voting Classifier</b>. The trained models are then applied to the test dataset, and predictions are submitted following competition requirements. \n",
    "</div>"
   ]
  },
  {
   "cell_type": "markdown",
   "id": "7b680c17",
   "metadata": {
    "papermill": {
     "duration": 0.009233,
     "end_time": "2024-03-09T21:33:50.790013",
     "exception": false,
     "start_time": "2024-03-09T21:33:50.780780",
     "status": "completed"
    },
    "tags": []
   },
   "source": [
    "### 📋**Table of Contents**\n",
    "\n",
    "* [Introduction](#h1)\n",
    "\n",
    "* [Importing Libraries](#h2)\n",
    "\n",
    "* [Loading Datasets](#h3)\n",
    "\n",
    "* [Setting Constants](#h4)\n",
    "\n",
    "* [Creating Byte-Pair Encoding Tokenizer](#h5)\n",
    "\n",
    "* [Adding Special Tokens and Creating Trainer Instance](#h6)\n",
    "\n",
    "* [Creating Huggingface Dataset Object](#h7)\n",
    "\n",
    "* [Training the Tokenizer](#h8)\n",
    "\n",
    "* [Tokenizing Texts](#h9)\n",
    "\n",
    "* [TF-IDF Vectorization](#h10)\n",
    "\n",
    "* [Getting Vocab](#h11)\n",
    "\n",
    "* [Model Training](#h12)"
   ]
  },
  {
   "cell_type": "markdown",
   "id": "36702f11",
   "metadata": {
    "papermill": {
     "duration": 0.00952,
     "end_time": "2024-03-09T21:33:50.809143",
     "exception": false,
     "start_time": "2024-03-09T21:33:50.799623",
     "status": "completed"
    },
    "tags": []
   },
   "source": [
    "## 📚 **Importing Libraries** <a class=\"anchor\"  id=\"h2\"></a>"
   ]
  },
  {
   "cell_type": "code",
   "execution_count": 1,
   "id": "08a78bc4",
   "metadata": {
    "execution": {
     "iopub.execute_input": "2024-03-09T21:33:50.830670Z",
     "iopub.status.busy": "2024-03-09T21:33:50.830083Z",
     "iopub.status.idle": "2024-03-09T21:34:02.297456Z",
     "shell.execute_reply": "2024-03-09T21:34:02.296292Z"
    },
    "papermill": {
     "duration": 11.481998,
     "end_time": "2024-03-09T21:34:02.300785",
     "exception": false,
     "start_time": "2024-03-09T21:33:50.818787",
     "status": "completed"
    },
    "tags": []
   },
   "outputs": [],
   "source": [
    "import sys\n",
    "import gc\n",
    "\n",
    "import pandas as pd\n",
    "from sklearn.model_selection import StratifiedKFold\n",
    "import numpy as np\n",
    "from sklearn.metrics import roc_auc_score\n",
    "import numpy as np\n",
    "from lightgbm import LGBMClassifier\n",
    "from catboost import CatBoostClassifier\n",
    "from sklearn.feature_extraction.text import TfidfVectorizer\n",
    "\n",
    "from tokenizers import (\n",
    "    decoders,\n",
    "    models,\n",
    "    normalizers,\n",
    "    pre_tokenizers,\n",
    "    processors,\n",
    "    trainers,\n",
    "    Tokenizer,\n",
    ")\n",
    "\n",
    "from datasets import Dataset\n",
    "from tqdm.auto import tqdm\n",
    "from transformers import PreTrainedTokenizerFast\n",
    "\n",
    "from sklearn.linear_model import SGDClassifier\n",
    "from sklearn.naive_bayes import MultinomialNB\n",
    "from sklearn.ensemble import VotingClassifier"
   ]
  },
  {
   "cell_type": "markdown",
   "id": "ed8df89e",
   "metadata": {
    "papermill": {
     "duration": 0.009508,
     "end_time": "2024-03-09T21:34:02.319966",
     "exception": false,
     "start_time": "2024-03-09T21:34:02.310458",
     "status": "completed"
    },
    "tags": []
   },
   "source": [
    "## 📊**Loading Datasets** <a class=\"anchor\"  id=\"h3\"></a>"
   ]
  },
  {
   "cell_type": "code",
   "execution_count": 2,
   "id": "431ef068",
   "metadata": {
    "execution": {
     "iopub.execute_input": "2024-03-09T21:34:02.341330Z",
     "iopub.status.busy": "2024-03-09T21:34:02.340442Z",
     "iopub.status.idle": "2024-03-09T21:34:05.398825Z",
     "shell.execute_reply": "2024-03-09T21:34:05.397688Z"
    },
    "papermill": {
     "duration": 3.072086,
     "end_time": "2024-03-09T21:34:05.401502",
     "exception": false,
     "start_time": "2024-03-09T21:34:02.329416",
     "status": "completed"
    },
    "tags": []
   },
   "outputs": [],
   "source": [
    "test = pd.read_csv('/kaggle/input/llm-detect-ai-generated-text/test_essays.csv')\n",
    "sub = pd.read_csv('/kaggle/input/llm-detect-ai-generated-text/sample_submission.csv')\n",
    "org_train = pd.read_csv('/kaggle/input/llm-detect-ai-generated-text/train_essays.csv')\n",
    "train = pd.read_csv(\"/kaggle/input/daigt-v2-train-dataset/train_v2_drcat_02.csv\", sep=',')\n",
    "train = train.drop_duplicates(subset=['text'])\n",
    "train.reset_index(drop=True, inplace=True)"
   ]
  },
  {
   "cell_type": "markdown",
   "id": "c79043a3",
   "metadata": {
    "papermill": {
     "duration": 0.00926,
     "end_time": "2024-03-09T21:34:05.420738",
     "exception": false,
     "start_time": "2024-03-09T21:34:05.411478",
     "status": "completed"
    },
    "tags": []
   },
   "source": [
    "## 📌**Setting Constants** <a class=\"anchor\"  id=\"h4\"></a>"
   ]
  },
  {
   "cell_type": "code",
   "execution_count": 3,
   "id": "727fafc1",
   "metadata": {
    "execution": {
     "iopub.execute_input": "2024-03-09T21:34:05.443216Z",
     "iopub.status.busy": "2024-03-09T21:34:05.442457Z",
     "iopub.status.idle": "2024-03-09T21:34:05.447326Z",
     "shell.execute_reply": "2024-03-09T21:34:05.446442Z"
    },
    "papermill": {
     "duration": 0.01876,
     "end_time": "2024-03-09T21:34:05.449803",
     "exception": false,
     "start_time": "2024-03-09T21:34:05.431043",
     "status": "completed"
    },
    "tags": []
   },
   "outputs": [],
   "source": [
    "LOWERCASE = False\n",
    "VOCAB_SIZE = 30522"
   ]
  },
  {
   "cell_type": "markdown",
   "id": "d7e7ef40",
   "metadata": {
    "papermill": {
     "duration": 0.009112,
     "end_time": "2024-03-09T21:34:05.469031",
     "exception": false,
     "start_time": "2024-03-09T21:34:05.459919",
     "status": "completed"
    },
    "tags": []
   },
   "source": [
    "## 🤖**Creating Byte-Pair Encoding Tokenizer** <a class=\"anchor\"  id=\"h5\"></a>"
   ]
  },
  {
   "cell_type": "code",
   "execution_count": 4,
   "id": "1c320842",
   "metadata": {
    "execution": {
     "iopub.execute_input": "2024-03-09T21:34:05.490445Z",
     "iopub.status.busy": "2024-03-09T21:34:05.490008Z",
     "iopub.status.idle": "2024-03-09T21:34:05.508492Z",
     "shell.execute_reply": "2024-03-09T21:34:05.507292Z"
    },
    "papermill": {
     "duration": 0.032699,
     "end_time": "2024-03-09T21:34:05.511369",
     "exception": false,
     "start_time": "2024-03-09T21:34:05.478670",
     "status": "completed"
    },
    "tags": []
   },
   "outputs": [],
   "source": [
    "raw_tokenizer = Tokenizer(models.BPE(unk_token=\"[UNK]\"))\n",
    "raw_tokenizer.normalizer = normalizers.Sequence([normalizers.NFC()] + [normalizers.Lowercase()] if LOWERCASE else [])\n",
    "raw_tokenizer.pre_tokenizer = pre_tokenizers.ByteLevel()"
   ]
  },
  {
   "cell_type": "markdown",
   "id": "4e349459",
   "metadata": {
    "papermill": {
     "duration": 0.009078,
     "end_time": "2024-03-09T21:34:05.529947",
     "exception": false,
     "start_time": "2024-03-09T21:34:05.520869",
     "status": "completed"
    },
    "tags": []
   },
   "source": [
    "## 🛠️**Adding Special Tokens and Creating Trainer Instance** <a class=\"anchor\"  id=\"h6\"></a>"
   ]
  },
  {
   "cell_type": "code",
   "execution_count": 5,
   "id": "ee9b05b8",
   "metadata": {
    "execution": {
     "iopub.execute_input": "2024-03-09T21:34:05.551768Z",
     "iopub.status.busy": "2024-03-09T21:34:05.551361Z",
     "iopub.status.idle": "2024-03-09T21:34:05.557746Z",
     "shell.execute_reply": "2024-03-09T21:34:05.556580Z"
    },
    "papermill": {
     "duration": 0.020644,
     "end_time": "2024-03-09T21:34:05.560126",
     "exception": false,
     "start_time": "2024-03-09T21:34:05.539482",
     "status": "completed"
    },
    "tags": []
   },
   "outputs": [],
   "source": [
    "special_tokens = [\"[UNK]\", \"[PAD]\", \"[CLS]\", \"[SEP]\", \"[MASK]\"]\n",
    "trainer = trainers.BpeTrainer(vocab_size=VOCAB_SIZE, special_tokens=special_tokens)"
   ]
  },
  {
   "cell_type": "markdown",
   "id": "9bec0c68",
   "metadata": {
    "papermill": {
     "duration": 0.009103,
     "end_time": "2024-03-09T21:34:05.578978",
     "exception": false,
     "start_time": "2024-03-09T21:34:05.569875",
     "status": "completed"
    },
    "tags": []
   },
   "source": [
    "## 📚**Creating Huggingface Dataset Object** <a class=\"anchor\"  id=\"h7\"></a>"
   ]
  },
  {
   "cell_type": "code",
   "execution_count": 6,
   "id": "9a820d97",
   "metadata": {
    "execution": {
     "iopub.execute_input": "2024-03-09T21:34:05.600046Z",
     "iopub.status.busy": "2024-03-09T21:34:05.599211Z",
     "iopub.status.idle": "2024-03-09T21:34:05.635777Z",
     "shell.execute_reply": "2024-03-09T21:34:05.634511Z"
    },
    "papermill": {
     "duration": 0.050256,
     "end_time": "2024-03-09T21:34:05.638752",
     "exception": false,
     "start_time": "2024-03-09T21:34:05.588496",
     "status": "completed"
    },
    "tags": []
   },
   "outputs": [],
   "source": [
    "dataset = Dataset.from_pandas(test[['text']])"
   ]
  },
  {
   "cell_type": "markdown",
   "id": "8dcb0abe",
   "metadata": {
    "papermill": {
     "duration": 0.009254,
     "end_time": "2024-03-09T21:34:05.657493",
     "exception": false,
     "start_time": "2024-03-09T21:34:05.648239",
     "status": "completed"
    },
    "tags": []
   },
   "source": [
    "## 🚀**Training the Tokenizer** <a class=\"anchor\"  id=\"h8\"></a>"
   ]
  },
  {
   "cell_type": "code",
   "execution_count": 7,
   "id": "dfaec780",
   "metadata": {
    "execution": {
     "iopub.execute_input": "2024-03-09T21:34:05.678979Z",
     "iopub.status.busy": "2024-03-09T21:34:05.678111Z",
     "iopub.status.idle": "2024-03-09T21:34:05.684047Z",
     "shell.execute_reply": "2024-03-09T21:34:05.682789Z"
    },
    "papermill": {
     "duration": 0.019416,
     "end_time": "2024-03-09T21:34:05.686565",
     "exception": false,
     "start_time": "2024-03-09T21:34:05.667149",
     "status": "completed"
    },
    "tags": []
   },
   "outputs": [],
   "source": [
    "def train_corp_iter(): \n",
    "    for i in range(0, len(dataset), 1000):\n",
    "        yield dataset[i : i + 1000][\"text\"]"
   ]
  },
  {
   "cell_type": "code",
   "execution_count": 8,
   "id": "768c704a",
   "metadata": {
    "execution": {
     "iopub.execute_input": "2024-03-09T21:34:05.707791Z",
     "iopub.status.busy": "2024-03-09T21:34:05.707380Z",
     "iopub.status.idle": "2024-03-09T21:34:05.733457Z",
     "shell.execute_reply": "2024-03-09T21:34:05.732357Z"
    },
    "papermill": {
     "duration": 0.03998,
     "end_time": "2024-03-09T21:34:05.736241",
     "exception": false,
     "start_time": "2024-03-09T21:34:05.696261",
     "status": "completed"
    },
    "tags": []
   },
   "outputs": [
    {
     "name": "stdout",
     "output_type": "stream",
     "text": [
      "\n",
      "\n",
      "\n"
     ]
    }
   ],
   "source": [
    "raw_tokenizer.train_from_iterator(train_corp_iter(), trainer=trainer)\n",
    "tokenizer = PreTrainedTokenizerFast(\n",
    "    tokenizer_object=raw_tokenizer,\n",
    "    unk_token=\"[UNK]\",\n",
    "    pad_token=\"[PAD]\",\n",
    "    cls_token=\"[CLS]\",\n",
    "    sep_token=\"[SEP]\",\n",
    "    mask_token=\"[MASK]\")"
   ]
  },
  {
   "cell_type": "markdown",
   "id": "c24bd9d8",
   "metadata": {
    "papermill": {
     "duration": 0.009363,
     "end_time": "2024-03-09T21:34:05.755529",
     "exception": false,
     "start_time": "2024-03-09T21:34:05.746166",
     "status": "completed"
    },
    "tags": []
   },
   "source": [
    "## 🗂️**Tokenizing Texts** <a class=\"anchor\"  id=\"h9\"></a>"
   ]
  },
  {
   "cell_type": "code",
   "execution_count": 9,
   "id": "5404c1ff",
   "metadata": {
    "execution": {
     "iopub.execute_input": "2024-03-09T21:34:05.777748Z",
     "iopub.status.busy": "2024-03-09T21:34:05.776244Z",
     "iopub.status.idle": "2024-03-09T21:34:05.804389Z",
     "shell.execute_reply": "2024-03-09T21:34:05.803253Z"
    },
    "papermill": {
     "duration": 0.046102,
     "end_time": "2024-03-09T21:34:05.811106",
     "exception": false,
     "start_time": "2024-03-09T21:34:05.765004",
     "status": "completed"
    },
    "tags": []
   },
   "outputs": [
    {
     "data": {
      "application/vnd.jupyter.widget-view+json": {
       "model_id": "e06577f858544dc7a0d60576348f0899",
       "version_major": 2,
       "version_minor": 0
      },
      "text/plain": [
       "  0%|          | 0/3 [00:00<?, ?it/s]"
      ]
     },
     "metadata": {},
     "output_type": "display_data"
    }
   ],
   "source": [
    "tokenized_texts_test = []\n",
    "for text in tqdm(test['text'].tolist()):\n",
    "    tokenized_texts_test.append(tokenizer.tokenize(text))"
   ]
  },
  {
   "cell_type": "code",
   "execution_count": 10,
   "id": "c1fd29ae",
   "metadata": {
    "execution": {
     "iopub.execute_input": "2024-03-09T21:34:05.832958Z",
     "iopub.status.busy": "2024-03-09T21:34:05.832560Z",
     "iopub.status.idle": "2024-03-09T21:36:54.219933Z",
     "shell.execute_reply": "2024-03-09T21:36:54.218655Z"
    },
    "papermill": {
     "duration": 168.401388,
     "end_time": "2024-03-09T21:36:54.222497",
     "exception": false,
     "start_time": "2024-03-09T21:34:05.821109",
     "status": "completed"
    },
    "tags": []
   },
   "outputs": [
    {
     "data": {
      "application/vnd.jupyter.widget-view+json": {
       "model_id": "d1b72ab218604efcb5d66662f7554a4b",
       "version_major": 2,
       "version_minor": 0
      },
      "text/plain": [
       "  0%|          | 0/44868 [00:00<?, ?it/s]"
      ]
     },
     "metadata": {},
     "output_type": "display_data"
    }
   ],
   "source": [
    "tokenized_texts_train = []\n",
    "for text in tqdm(train['text'].tolist()):\n",
    "    tokenized_texts_train.append(tokenizer.tokenize(text))"
   ]
  },
  {
   "cell_type": "markdown",
   "id": "92059e57",
   "metadata": {
    "papermill": {
     "duration": 0.009771,
     "end_time": "2024-03-09T21:36:54.242414",
     "exception": false,
     "start_time": "2024-03-09T21:36:54.232643",
     "status": "completed"
    },
    "tags": []
   },
   "source": [
    "## 🤖➡️🔠**TF-IDF Vectorization** <a class=\"anchor\"  id=\"h10\"></a>"
   ]
  },
  {
   "cell_type": "code",
   "execution_count": 11,
   "id": "dc5f5467",
   "metadata": {
    "execution": {
     "iopub.execute_input": "2024-03-09T21:36:54.264357Z",
     "iopub.status.busy": "2024-03-09T21:36:54.263893Z",
     "iopub.status.idle": "2024-03-09T21:36:54.269931Z",
     "shell.execute_reply": "2024-03-09T21:36:54.268673Z"
    },
    "papermill": {
     "duration": 0.019812,
     "end_time": "2024-03-09T21:36:54.272304",
     "exception": false,
     "start_time": "2024-03-09T21:36:54.252492",
     "status": "completed"
    },
    "tags": []
   },
   "outputs": [],
   "source": [
    "def dummy(text):\n",
    "    return text"
   ]
  },
  {
   "cell_type": "code",
   "execution_count": 12,
   "id": "b367fd61",
   "metadata": {
    "execution": {
     "iopub.execute_input": "2024-03-09T21:36:54.295127Z",
     "iopub.status.busy": "2024-03-09T21:36:54.294639Z",
     "iopub.status.idle": "2024-03-09T21:36:54.302084Z",
     "shell.execute_reply": "2024-03-09T21:36:54.300677Z"
    },
    "papermill": {
     "duration": 0.021619,
     "end_time": "2024-03-09T21:36:54.304487",
     "exception": false,
     "start_time": "2024-03-09T21:36:54.282868",
     "status": "completed"
    },
    "tags": []
   },
   "outputs": [],
   "source": [
    "vectorizer = TfidfVectorizer(ngram_range=(3, 5), \n",
    "                             lowercase=False, \n",
    "                             sublinear_tf=True, \n",
    "                             analyzer = 'word',\n",
    "                             tokenizer = dummy,\n",
    "                             preprocessor = dummy,\n",
    "                             token_pattern = None,\n",
    "                             strip_accents='unicode')"
   ]
  },
  {
   "cell_type": "code",
   "execution_count": 13,
   "id": "1959a48f",
   "metadata": {
    "execution": {
     "iopub.execute_input": "2024-03-09T21:36:54.326842Z",
     "iopub.status.busy": "2024-03-09T21:36:54.326431Z",
     "iopub.status.idle": "2024-03-09T21:36:54.353673Z",
     "shell.execute_reply": "2024-03-09T21:36:54.352617Z"
    },
    "papermill": {
     "duration": 0.0411,
     "end_time": "2024-03-09T21:36:54.355874",
     "exception": false,
     "start_time": "2024-03-09T21:36:54.314774",
     "status": "completed"
    },
    "tags": []
   },
   "outputs": [
    {
     "data": {
      "text/html": [
       "<style>#sk-container-id-1 {color: black;background-color: white;}#sk-container-id-1 pre{padding: 0;}#sk-container-id-1 div.sk-toggleable {background-color: white;}#sk-container-id-1 label.sk-toggleable__label {cursor: pointer;display: block;width: 100%;margin-bottom: 0;padding: 0.3em;box-sizing: border-box;text-align: center;}#sk-container-id-1 label.sk-toggleable__label-arrow:before {content: \"▸\";float: left;margin-right: 0.25em;color: #696969;}#sk-container-id-1 label.sk-toggleable__label-arrow:hover:before {color: black;}#sk-container-id-1 div.sk-estimator:hover label.sk-toggleable__label-arrow:before {color: black;}#sk-container-id-1 div.sk-toggleable__content {max-height: 0;max-width: 0;overflow: hidden;text-align: left;background-color: #f0f8ff;}#sk-container-id-1 div.sk-toggleable__content pre {margin: 0.2em;color: black;border-radius: 0.25em;background-color: #f0f8ff;}#sk-container-id-1 input.sk-toggleable__control:checked~div.sk-toggleable__content {max-height: 200px;max-width: 100%;overflow: auto;}#sk-container-id-1 input.sk-toggleable__control:checked~label.sk-toggleable__label-arrow:before {content: \"▾\";}#sk-container-id-1 div.sk-estimator input.sk-toggleable__control:checked~label.sk-toggleable__label {background-color: #d4ebff;}#sk-container-id-1 div.sk-label input.sk-toggleable__control:checked~label.sk-toggleable__label {background-color: #d4ebff;}#sk-container-id-1 input.sk-hidden--visually {border: 0;clip: rect(1px 1px 1px 1px);clip: rect(1px, 1px, 1px, 1px);height: 1px;margin: -1px;overflow: hidden;padding: 0;position: absolute;width: 1px;}#sk-container-id-1 div.sk-estimator {font-family: monospace;background-color: #f0f8ff;border: 1px dotted black;border-radius: 0.25em;box-sizing: border-box;margin-bottom: 0.5em;}#sk-container-id-1 div.sk-estimator:hover {background-color: #d4ebff;}#sk-container-id-1 div.sk-parallel-item::after {content: \"\";width: 100%;border-bottom: 1px solid gray;flex-grow: 1;}#sk-container-id-1 div.sk-label:hover label.sk-toggleable__label {background-color: #d4ebff;}#sk-container-id-1 div.sk-serial::before {content: \"\";position: absolute;border-left: 1px solid gray;box-sizing: border-box;top: 0;bottom: 0;left: 50%;z-index: 0;}#sk-container-id-1 div.sk-serial {display: flex;flex-direction: column;align-items: center;background-color: white;padding-right: 0.2em;padding-left: 0.2em;position: relative;}#sk-container-id-1 div.sk-item {position: relative;z-index: 1;}#sk-container-id-1 div.sk-parallel {display: flex;align-items: stretch;justify-content: center;background-color: white;position: relative;}#sk-container-id-1 div.sk-item::before, #sk-container-id-1 div.sk-parallel-item::before {content: \"\";position: absolute;border-left: 1px solid gray;box-sizing: border-box;top: 0;bottom: 0;left: 50%;z-index: -1;}#sk-container-id-1 div.sk-parallel-item {display: flex;flex-direction: column;z-index: 1;position: relative;background-color: white;}#sk-container-id-1 div.sk-parallel-item:first-child::after {align-self: flex-end;width: 50%;}#sk-container-id-1 div.sk-parallel-item:last-child::after {align-self: flex-start;width: 50%;}#sk-container-id-1 div.sk-parallel-item:only-child::after {width: 0;}#sk-container-id-1 div.sk-dashed-wrapped {border: 1px dashed gray;margin: 0 0.4em 0.5em 0.4em;box-sizing: border-box;padding-bottom: 0.4em;background-color: white;}#sk-container-id-1 div.sk-label label {font-family: monospace;font-weight: bold;display: inline-block;line-height: 1.2em;}#sk-container-id-1 div.sk-label-container {text-align: center;}#sk-container-id-1 div.sk-container {/* jupyter's `normalize.less` sets `[hidden] { display: none; }` but bootstrap.min.css set `[hidden] { display: none !important; }` so we also need the `!important` here to be able to override the default hidden behavior on the sphinx rendered scikit-learn.org. See: https://github.com/scikit-learn/scikit-learn/issues/21755 */display: inline-block !important;position: relative;}#sk-container-id-1 div.sk-text-repr-fallback {display: none;}</style><div id=\"sk-container-id-1\" class=\"sk-top-container\"><div class=\"sk-text-repr-fallback\"><pre>TfidfVectorizer(lowercase=False, ngram_range=(3, 5),\n",
       "                preprocessor=&lt;function dummy at 0x7b6b099b1000&gt;,\n",
       "                strip_accents=&#x27;unicode&#x27;, sublinear_tf=True, token_pattern=None,\n",
       "                tokenizer=&lt;function dummy at 0x7b6b099b1000&gt;)</pre><b>In a Jupyter environment, please rerun this cell to show the HTML representation or trust the notebook. <br />On GitHub, the HTML representation is unable to render, please try loading this page with nbviewer.org.</b></div><div class=\"sk-container\" hidden><div class=\"sk-item\"><div class=\"sk-estimator sk-toggleable\"><input class=\"sk-toggleable__control sk-hidden--visually\" id=\"sk-estimator-id-1\" type=\"checkbox\" checked><label for=\"sk-estimator-id-1\" class=\"sk-toggleable__label sk-toggleable__label-arrow\">TfidfVectorizer</label><div class=\"sk-toggleable__content\"><pre>TfidfVectorizer(lowercase=False, ngram_range=(3, 5),\n",
       "                preprocessor=&lt;function dummy at 0x7b6b099b1000&gt;,\n",
       "                strip_accents=&#x27;unicode&#x27;, sublinear_tf=True, token_pattern=None,\n",
       "                tokenizer=&lt;function dummy at 0x7b6b099b1000&gt;)</pre></div></div></div></div></div>"
      ],
      "text/plain": [
       "TfidfVectorizer(lowercase=False, ngram_range=(3, 5),\n",
       "                preprocessor=<function dummy at 0x7b6b099b1000>,\n",
       "                strip_accents='unicode', sublinear_tf=True, token_pattern=None,\n",
       "                tokenizer=<function dummy at 0x7b6b099b1000>)"
      ]
     },
     "execution_count": 13,
     "metadata": {},
     "output_type": "execute_result"
    }
   ],
   "source": [
    "vectorizer.fit(tokenized_texts_test)"
   ]
  },
  {
   "cell_type": "markdown",
   "id": "722ddb92",
   "metadata": {
    "papermill": {
     "duration": 0.009814,
     "end_time": "2024-03-09T21:36:54.375997",
     "exception": false,
     "start_time": "2024-03-09T21:36:54.366183",
     "status": "completed"
    },
    "tags": []
   },
   "source": [
    "## **Getting Vocab** 📚🧠 <a class=\"anchor\"  id=\"h11\"></a>"
   ]
  },
  {
   "cell_type": "code",
   "execution_count": 14,
   "id": "66cc1209",
   "metadata": {
    "execution": {
     "iopub.execute_input": "2024-03-09T21:36:54.399715Z",
     "iopub.status.busy": "2024-03-09T21:36:54.398434Z",
     "iopub.status.idle": "2024-03-09T21:36:54.404368Z",
     "shell.execute_reply": "2024-03-09T21:36:54.403338Z"
    },
    "papermill": {
     "duration": 0.020131,
     "end_time": "2024-03-09T21:36:54.406761",
     "exception": false,
     "start_time": "2024-03-09T21:36:54.386630",
     "status": "completed"
    },
    "tags": []
   },
   "outputs": [],
   "source": [
    "vocab = vectorizer.vocabulary_"
   ]
  },
  {
   "cell_type": "code",
   "execution_count": 15,
   "id": "7cb5d382",
   "metadata": {
    "execution": {
     "iopub.execute_input": "2024-03-09T21:36:54.429772Z",
     "iopub.status.busy": "2024-03-09T21:36:54.429055Z",
     "iopub.status.idle": "2024-03-09T21:36:54.441314Z",
     "shell.execute_reply": "2024-03-09T21:36:54.439817Z"
    },
    "papermill": {
     "duration": 0.02714,
     "end_time": "2024-03-09T21:36:54.444188",
     "exception": false,
     "start_time": "2024-03-09T21:36:54.417048",
     "status": "completed"
    },
    "tags": []
   },
   "outputs": [],
   "source": [
    "vectorizer = TfidfVectorizer(ngram_range=(3, 5), \n",
    "                             lowercase=False, \n",
    "                             sublinear_tf=True, \n",
    "                             vocabulary=vocab,\n",
    "                             analyzer = 'word',\n",
    "                             tokenizer = dummy,\n",
    "                             preprocessor = dummy,\n",
    "                             token_pattern = None, \n",
    "                             strip_accents='unicode')"
   ]
  },
  {
   "cell_type": "code",
   "execution_count": 16,
   "id": "f7176bd5",
   "metadata": {
    "execution": {
     "iopub.execute_input": "2024-03-09T21:36:54.468127Z",
     "iopub.status.busy": "2024-03-09T21:36:54.467347Z",
     "iopub.status.idle": "2024-03-09T21:41:57.164938Z",
     "shell.execute_reply": "2024-03-09T21:41:57.163619Z"
    },
    "papermill": {
     "duration": 302.712854,
     "end_time": "2024-03-09T21:41:57.167967",
     "exception": false,
     "start_time": "2024-03-09T21:36:54.455113",
     "status": "completed"
    },
    "tags": []
   },
   "outputs": [],
   "source": [
    "tf_train = vectorizer.fit_transform(tokenized_texts_train)\n",
    "tf_test = vectorizer.transform(tokenized_texts_test)"
   ]
  },
  {
   "cell_type": "code",
   "execution_count": 17,
   "id": "5a8c72ab",
   "metadata": {
    "execution": {
     "iopub.execute_input": "2024-03-09T21:41:57.255629Z",
     "iopub.status.busy": "2024-03-09T21:41:57.254489Z",
     "iopub.status.idle": "2024-03-09T21:41:59.170112Z",
     "shell.execute_reply": "2024-03-09T21:41:59.168859Z"
    },
    "papermill": {
     "duration": 1.930218,
     "end_time": "2024-03-09T21:41:59.172831",
     "exception": false,
     "start_time": "2024-03-09T21:41:57.242613",
     "status": "completed"
    },
    "tags": []
   },
   "outputs": [
    {
     "data": {
      "text/plain": [
       "21"
      ]
     },
     "execution_count": 17,
     "metadata": {},
     "output_type": "execute_result"
    }
   ],
   "source": [
    "del vectorizer\n",
    "gc.collect()"
   ]
  },
  {
   "cell_type": "markdown",
   "id": "5798f73f",
   "metadata": {
    "papermill": {
     "duration": 0.01474,
     "end_time": "2024-03-09T21:41:59.198480",
     "exception": false,
     "start_time": "2024-03-09T21:41:59.183740",
     "status": "completed"
    },
    "tags": []
   },
   "source": [
    "## **Model Training** 🚀 <a class=\"anchor\"  id=\"h12\"></a>"
   ]
  },
  {
   "cell_type": "code",
   "execution_count": 18,
   "id": "28423f04",
   "metadata": {
    "execution": {
     "iopub.execute_input": "2024-03-09T21:41:59.229013Z",
     "iopub.status.busy": "2024-03-09T21:41:59.228480Z",
     "iopub.status.idle": "2024-03-09T21:41:59.235073Z",
     "shell.execute_reply": "2024-03-09T21:41:59.233595Z"
    },
    "papermill": {
     "duration": 0.024463,
     "end_time": "2024-03-09T21:41:59.237907",
     "exception": false,
     "start_time": "2024-03-09T21:41:59.213444",
     "status": "completed"
    },
    "tags": []
   },
   "outputs": [],
   "source": [
    "y_train = train['label'].values"
   ]
  },
  {
   "cell_type": "code",
   "execution_count": 19,
   "id": "d53acd7b",
   "metadata": {
    "execution": {
     "iopub.execute_input": "2024-03-09T21:41:59.272483Z",
     "iopub.status.busy": "2024-03-09T21:41:59.271266Z",
     "iopub.status.idle": "2024-03-09T21:41:59.290399Z",
     "shell.execute_reply": "2024-03-09T21:41:59.289363Z"
    },
    "papermill": {
     "duration": 0.039818,
     "end_time": "2024-03-09T21:41:59.293307",
     "exception": false,
     "start_time": "2024-03-09T21:41:59.253489",
     "status": "completed"
    },
    "tags": []
   },
   "outputs": [],
   "source": [
    "if len(test.text.values) <= 5:\n",
    "    sub.to_csv('submission.csv', index=False)\n",
    "else:\n",
    "    clf = MultinomialNB(alpha=0.02)\n",
    "    sgd_model = SGDClassifier(max_iter=8000, tol=1e-4, loss=\"modified_huber\") \n",
    "    p6={'n_iter': 1500,'verbose': -1,'objective': 'binary','metric': 'auc','learning_rate': 0.05073909898961407, 'colsample_bytree': 0.726023996436955, 'colsample_bynode': 0.5803681307354022, 'lambda_l1': 8.562963348932286, 'lambda_l2': 4.893256185259296, 'min_data_in_leaf': 115, 'max_depth': 23, 'max_bin': 898}\n",
    "    lgb=LGBMClassifier(**p6)\n",
    "    cat=CatBoostClassifier(iterations=1000,\n",
    "                           verbose=0,\n",
    "                           l2_leaf_reg=6.6591278779517808,\n",
    "                           learning_rate=0.005689066836106983,\n",
    "                           allow_const_label=True,loss_function = 'CrossEntropy')\n",
    "    weights = [0.07,0.31,0.31,0.31]\n",
    " \n",
    "    ensemble = VotingClassifier(estimators=[('mnb',clf),\n",
    "                                            ('sgd', sgd_model),\n",
    "                                            ('lgb',lgb), \n",
    "                                            ('cat', cat)\n",
    "                                           ],\n",
    "                                weights=weights, voting='soft', n_jobs=-1)\n",
    "    ensemble.fit(tf_train, y_train)\n",
    "    gc.collect()\n",
    "    final_preds = ensemble.predict_proba(tf_test)[:,1]\n",
    "    sub['generated'] = final_preds\n",
    "    sub.to_csv('submission.csv', index=False)\n",
    "    sub"
   ]
  }
 ],
 "metadata": {
  "kaggle": {
   "accelerator": "none",
   "dataSources": [
    {
     "databundleVersionId": 7516023,
     "sourceId": 61542,
     "sourceType": "competition"
    },
    {
     "datasetId": 4005256,
     "sourceId": 6977472,
     "sourceType": "datasetVersion"
    }
   ],
   "dockerImageVersionId": 30587,
   "isGpuEnabled": false,
   "isInternetEnabled": true,
   "language": "python",
   "sourceType": "notebook"
  },
  "kernelspec": {
   "display_name": "Python 3",
   "language": "python",
   "name": "python3"
  },
  "language_info": {
   "codemirror_mode": {
    "name": "ipython",
    "version": 3
   },
   "file_extension": ".py",
   "mimetype": "text/x-python",
   "name": "python",
   "nbconvert_exporter": "python",
   "pygments_lexer": "ipython3",
   "version": "3.10.12"
  },
  "papermill": {
   "default_parameters": {},
   "duration": 495.87217,
   "end_time": "2024-03-09T21:42:02.230004",
   "environment_variables": {},
   "exception": null,
   "input_path": "__notebook__.ipynb",
   "output_path": "__notebook__.ipynb",
   "parameters": {},
   "start_time": "2024-03-09T21:33:46.357834",
   "version": "2.4.0"
  },
  "widgets": {
   "application/vnd.jupyter.widget-state+json": {
    "state": {
     "00a478fc2ee8418f89c0002b005828ec": {
      "model_module": "@jupyter-widgets/controls",
      "model_module_version": "1.5.0",
      "model_name": "HTMLModel",
      "state": {
       "_dom_classes": [],
       "_model_module": "@jupyter-widgets/controls",
       "_model_module_version": "1.5.0",
       "_model_name": "HTMLModel",
       "_view_count": null,
       "_view_module": "@jupyter-widgets/controls",
       "_view_module_version": "1.5.0",
       "_view_name": "HTMLView",
       "description": "",
       "description_tooltip": null,
       "layout": "IPY_MODEL_92278fba26264a1ea421fb558e66b738",
       "placeholder": "​",
       "style": "IPY_MODEL_69bdb303a0fc46a1aaf4d23cec2a02f7",
       "value": " 3/3 [00:00&lt;00:00, 165.78it/s]"
      }
     },
     "0265f88e19b841ffa68a2a26dbe8b90f": {
      "model_module": "@jupyter-widgets/base",
      "model_module_version": "1.2.0",
      "model_name": "LayoutModel",
      "state": {
       "_model_module": "@jupyter-widgets/base",
       "_model_module_version": "1.2.0",
       "_model_name": "LayoutModel",
       "_view_count": null,
       "_view_module": "@jupyter-widgets/base",
       "_view_module_version": "1.2.0",
       "_view_name": "LayoutView",
       "align_content": null,
       "align_items": null,
       "align_self": null,
       "border": null,
       "bottom": null,
       "display": null,
       "flex": null,
       "flex_flow": null,
       "grid_area": null,
       "grid_auto_columns": null,
       "grid_auto_flow": null,
       "grid_auto_rows": null,
       "grid_column": null,
       "grid_gap": null,
       "grid_row": null,
       "grid_template_areas": null,
       "grid_template_columns": null,
       "grid_template_rows": null,
       "height": null,
       "justify_content": null,
       "justify_items": null,
       "left": null,
       "margin": null,
       "max_height": null,
       "max_width": null,
       "min_height": null,
       "min_width": null,
       "object_fit": null,
       "object_position": null,
       "order": null,
       "overflow": null,
       "overflow_x": null,
       "overflow_y": null,
       "padding": null,
       "right": null,
       "top": null,
       "visibility": null,
       "width": null
      }
     },
     "093cc2d456d647099c81aeaff26161a3": {
      "model_module": "@jupyter-widgets/controls",
      "model_module_version": "1.5.0",
      "model_name": "HTMLModel",
      "state": {
       "_dom_classes": [],
       "_model_module": "@jupyter-widgets/controls",
       "_model_module_version": "1.5.0",
       "_model_name": "HTMLModel",
       "_view_count": null,
       "_view_module": "@jupyter-widgets/controls",
       "_view_module_version": "1.5.0",
       "_view_name": "HTMLView",
       "description": "",
       "description_tooltip": null,
       "layout": "IPY_MODEL_0a140e1396be4975b211b6f192a41d28",
       "placeholder": "​",
       "style": "IPY_MODEL_dacffec94c374b7b9875be814a3d35c8",
       "value": "100%"
      }
     },
     "0a140e1396be4975b211b6f192a41d28": {
      "model_module": "@jupyter-widgets/base",
      "model_module_version": "1.2.0",
      "model_name": "LayoutModel",
      "state": {
       "_model_module": "@jupyter-widgets/base",
       "_model_module_version": "1.2.0",
       "_model_name": "LayoutModel",
       "_view_count": null,
       "_view_module": "@jupyter-widgets/base",
       "_view_module_version": "1.2.0",
       "_view_name": "LayoutView",
       "align_content": null,
       "align_items": null,
       "align_self": null,
       "border": null,
       "bottom": null,
       "display": null,
       "flex": null,
       "flex_flow": null,
       "grid_area": null,
       "grid_auto_columns": null,
       "grid_auto_flow": null,
       "grid_auto_rows": null,
       "grid_column": null,
       "grid_gap": null,
       "grid_row": null,
       "grid_template_areas": null,
       "grid_template_columns": null,
       "grid_template_rows": null,
       "height": null,
       "justify_content": null,
       "justify_items": null,
       "left": null,
       "margin": null,
       "max_height": null,
       "max_width": null,
       "min_height": null,
       "min_width": null,
       "object_fit": null,
       "object_position": null,
       "order": null,
       "overflow": null,
       "overflow_x": null,
       "overflow_y": null,
       "padding": null,
       "right": null,
       "top": null,
       "visibility": null,
       "width": null
      }
     },
     "10c05515f1894220bac7ebed418f68c8": {
      "model_module": "@jupyter-widgets/base",
      "model_module_version": "1.2.0",
      "model_name": "LayoutModel",
      "state": {
       "_model_module": "@jupyter-widgets/base",
       "_model_module_version": "1.2.0",
       "_model_name": "LayoutModel",
       "_view_count": null,
       "_view_module": "@jupyter-widgets/base",
       "_view_module_version": "1.2.0",
       "_view_name": "LayoutView",
       "align_content": null,
       "align_items": null,
       "align_self": null,
       "border": null,
       "bottom": null,
       "display": null,
       "flex": null,
       "flex_flow": null,
       "grid_area": null,
       "grid_auto_columns": null,
       "grid_auto_flow": null,
       "grid_auto_rows": null,
       "grid_column": null,
       "grid_gap": null,
       "grid_row": null,
       "grid_template_areas": null,
       "grid_template_columns": null,
       "grid_template_rows": null,
       "height": null,
       "justify_content": null,
       "justify_items": null,
       "left": null,
       "margin": null,
       "max_height": null,
       "max_width": null,
       "min_height": null,
       "min_width": null,
       "object_fit": null,
       "object_position": null,
       "order": null,
       "overflow": null,
       "overflow_x": null,
       "overflow_y": null,
       "padding": null,
       "right": null,
       "top": null,
       "visibility": null,
       "width": null
      }
     },
     "13fedd2a89a942d583e6bf0dc091c4f9": {
      "model_module": "@jupyter-widgets/controls",
      "model_module_version": "1.5.0",
      "model_name": "FloatProgressModel",
      "state": {
       "_dom_classes": [],
       "_model_module": "@jupyter-widgets/controls",
       "_model_module_version": "1.5.0",
       "_model_name": "FloatProgressModel",
       "_view_count": null,
       "_view_module": "@jupyter-widgets/controls",
       "_view_module_version": "1.5.0",
       "_view_name": "ProgressView",
       "bar_style": "success",
       "description": "",
       "description_tooltip": null,
       "layout": "IPY_MODEL_58e5c88d707a462c81d2653ccb6177f6",
       "max": 3.0,
       "min": 0.0,
       "orientation": "horizontal",
       "style": "IPY_MODEL_b5adf029bf0047e98e2f5157202771df",
       "value": 3.0
      }
     },
     "2d9bdd934421483bae35aacddfbd72ea": {
      "model_module": "@jupyter-widgets/controls",
      "model_module_version": "1.5.0",
      "model_name": "ProgressStyleModel",
      "state": {
       "_model_module": "@jupyter-widgets/controls",
       "_model_module_version": "1.5.0",
       "_model_name": "ProgressStyleModel",
       "_view_count": null,
       "_view_module": "@jupyter-widgets/base",
       "_view_module_version": "1.2.0",
       "_view_name": "StyleView",
       "bar_color": null,
       "description_width": ""
      }
     },
     "4d6da40a77f84844a61d764d12079296": {
      "model_module": "@jupyter-widgets/base",
      "model_module_version": "1.2.0",
      "model_name": "LayoutModel",
      "state": {
       "_model_module": "@jupyter-widgets/base",
       "_model_module_version": "1.2.0",
       "_model_name": "LayoutModel",
       "_view_count": null,
       "_view_module": "@jupyter-widgets/base",
       "_view_module_version": "1.2.0",
       "_view_name": "LayoutView",
       "align_content": null,
       "align_items": null,
       "align_self": null,
       "border": null,
       "bottom": null,
       "display": null,
       "flex": null,
       "flex_flow": null,
       "grid_area": null,
       "grid_auto_columns": null,
       "grid_auto_flow": null,
       "grid_auto_rows": null,
       "grid_column": null,
       "grid_gap": null,
       "grid_row": null,
       "grid_template_areas": null,
       "grid_template_columns": null,
       "grid_template_rows": null,
       "height": null,
       "justify_content": null,
       "justify_items": null,
       "left": null,
       "margin": null,
       "max_height": null,
       "max_width": null,
       "min_height": null,
       "min_width": null,
       "object_fit": null,
       "object_position": null,
       "order": null,
       "overflow": null,
       "overflow_x": null,
       "overflow_y": null,
       "padding": null,
       "right": null,
       "top": null,
       "visibility": null,
       "width": null
      }
     },
     "545e678b998349e59d0e7bdb4d244be8": {
      "model_module": "@jupyter-widgets/controls",
      "model_module_version": "1.5.0",
      "model_name": "DescriptionStyleModel",
      "state": {
       "_model_module": "@jupyter-widgets/controls",
       "_model_module_version": "1.5.0",
       "_model_name": "DescriptionStyleModel",
       "_view_count": null,
       "_view_module": "@jupyter-widgets/base",
       "_view_module_version": "1.2.0",
       "_view_name": "StyleView",
       "description_width": ""
      }
     },
     "58e5c88d707a462c81d2653ccb6177f6": {
      "model_module": "@jupyter-widgets/base",
      "model_module_version": "1.2.0",
      "model_name": "LayoutModel",
      "state": {
       "_model_module": "@jupyter-widgets/base",
       "_model_module_version": "1.2.0",
       "_model_name": "LayoutModel",
       "_view_count": null,
       "_view_module": "@jupyter-widgets/base",
       "_view_module_version": "1.2.0",
       "_view_name": "LayoutView",
       "align_content": null,
       "align_items": null,
       "align_self": null,
       "border": null,
       "bottom": null,
       "display": null,
       "flex": null,
       "flex_flow": null,
       "grid_area": null,
       "grid_auto_columns": null,
       "grid_auto_flow": null,
       "grid_auto_rows": null,
       "grid_column": null,
       "grid_gap": null,
       "grid_row": null,
       "grid_template_areas": null,
       "grid_template_columns": null,
       "grid_template_rows": null,
       "height": null,
       "justify_content": null,
       "justify_items": null,
       "left": null,
       "margin": null,
       "max_height": null,
       "max_width": null,
       "min_height": null,
       "min_width": null,
       "object_fit": null,
       "object_position": null,
       "order": null,
       "overflow": null,
       "overflow_x": null,
       "overflow_y": null,
       "padding": null,
       "right": null,
       "top": null,
       "visibility": null,
       "width": null
      }
     },
     "67a485f0bc3b4a6c8537bc7777ea62c7": {
      "model_module": "@jupyter-widgets/base",
      "model_module_version": "1.2.0",
      "model_name": "LayoutModel",
      "state": {
       "_model_module": "@jupyter-widgets/base",
       "_model_module_version": "1.2.0",
       "_model_name": "LayoutModel",
       "_view_count": null,
       "_view_module": "@jupyter-widgets/base",
       "_view_module_version": "1.2.0",
       "_view_name": "LayoutView",
       "align_content": null,
       "align_items": null,
       "align_self": null,
       "border": null,
       "bottom": null,
       "display": null,
       "flex": null,
       "flex_flow": null,
       "grid_area": null,
       "grid_auto_columns": null,
       "grid_auto_flow": null,
       "grid_auto_rows": null,
       "grid_column": null,
       "grid_gap": null,
       "grid_row": null,
       "grid_template_areas": null,
       "grid_template_columns": null,
       "grid_template_rows": null,
       "height": null,
       "justify_content": null,
       "justify_items": null,
       "left": null,
       "margin": null,
       "max_height": null,
       "max_width": null,
       "min_height": null,
       "min_width": null,
       "object_fit": null,
       "object_position": null,
       "order": null,
       "overflow": null,
       "overflow_x": null,
       "overflow_y": null,
       "padding": null,
       "right": null,
       "top": null,
       "visibility": null,
       "width": null
      }
     },
     "69bdb303a0fc46a1aaf4d23cec2a02f7": {
      "model_module": "@jupyter-widgets/controls",
      "model_module_version": "1.5.0",
      "model_name": "DescriptionStyleModel",
      "state": {
       "_model_module": "@jupyter-widgets/controls",
       "_model_module_version": "1.5.0",
       "_model_name": "DescriptionStyleModel",
       "_view_count": null,
       "_view_module": "@jupyter-widgets/base",
       "_view_module_version": "1.2.0",
       "_view_name": "StyleView",
       "description_width": ""
      }
     },
     "896bc1e91f344b2ab94a86c73dcc68e8": {
      "model_module": "@jupyter-widgets/controls",
      "model_module_version": "1.5.0",
      "model_name": "DescriptionStyleModel",
      "state": {
       "_model_module": "@jupyter-widgets/controls",
       "_model_module_version": "1.5.0",
       "_model_name": "DescriptionStyleModel",
       "_view_count": null,
       "_view_module": "@jupyter-widgets/base",
       "_view_module_version": "1.2.0",
       "_view_name": "StyleView",
       "description_width": ""
      }
     },
     "92278fba26264a1ea421fb558e66b738": {
      "model_module": "@jupyter-widgets/base",
      "model_module_version": "1.2.0",
      "model_name": "LayoutModel",
      "state": {
       "_model_module": "@jupyter-widgets/base",
       "_model_module_version": "1.2.0",
       "_model_name": "LayoutModel",
       "_view_count": null,
       "_view_module": "@jupyter-widgets/base",
       "_view_module_version": "1.2.0",
       "_view_name": "LayoutView",
       "align_content": null,
       "align_items": null,
       "align_self": null,
       "border": null,
       "bottom": null,
       "display": null,
       "flex": null,
       "flex_flow": null,
       "grid_area": null,
       "grid_auto_columns": null,
       "grid_auto_flow": null,
       "grid_auto_rows": null,
       "grid_column": null,
       "grid_gap": null,
       "grid_row": null,
       "grid_template_areas": null,
       "grid_template_columns": null,
       "grid_template_rows": null,
       "height": null,
       "justify_content": null,
       "justify_items": null,
       "left": null,
       "margin": null,
       "max_height": null,
       "max_width": null,
       "min_height": null,
       "min_width": null,
       "object_fit": null,
       "object_position": null,
       "order": null,
       "overflow": null,
       "overflow_x": null,
       "overflow_y": null,
       "padding": null,
       "right": null,
       "top": null,
       "visibility": null,
       "width": null
      }
     },
     "adcde5c4e29246d2be5c5f249f9ad6f6": {
      "model_module": "@jupyter-widgets/controls",
      "model_module_version": "1.5.0",
      "model_name": "HTMLModel",
      "state": {
       "_dom_classes": [],
       "_model_module": "@jupyter-widgets/controls",
       "_model_module_version": "1.5.0",
       "_model_name": "HTMLModel",
       "_view_count": null,
       "_view_module": "@jupyter-widgets/controls",
       "_view_module_version": "1.5.0",
       "_view_name": "HTMLView",
       "description": "",
       "description_tooltip": null,
       "layout": "IPY_MODEL_67a485f0bc3b4a6c8537bc7777ea62c7",
       "placeholder": "​",
       "style": "IPY_MODEL_896bc1e91f344b2ab94a86c73dcc68e8",
       "value": " 44868/44868 [02:48&lt;00:00, 247.86it/s]"
      }
     },
     "b5adf029bf0047e98e2f5157202771df": {
      "model_module": "@jupyter-widgets/controls",
      "model_module_version": "1.5.0",
      "model_name": "ProgressStyleModel",
      "state": {
       "_model_module": "@jupyter-widgets/controls",
       "_model_module_version": "1.5.0",
       "_model_name": "ProgressStyleModel",
       "_view_count": null,
       "_view_module": "@jupyter-widgets/base",
       "_view_module_version": "1.2.0",
       "_view_name": "StyleView",
       "bar_color": null,
       "description_width": ""
      }
     },
     "be98aaf7ebad4572b032ddd28ca9b398": {
      "model_module": "@jupyter-widgets/base",
      "model_module_version": "1.2.0",
      "model_name": "LayoutModel",
      "state": {
       "_model_module": "@jupyter-widgets/base",
       "_model_module_version": "1.2.0",
       "_model_name": "LayoutModel",
       "_view_count": null,
       "_view_module": "@jupyter-widgets/base",
       "_view_module_version": "1.2.0",
       "_view_name": "LayoutView",
       "align_content": null,
       "align_items": null,
       "align_self": null,
       "border": null,
       "bottom": null,
       "display": null,
       "flex": null,
       "flex_flow": null,
       "grid_area": null,
       "grid_auto_columns": null,
       "grid_auto_flow": null,
       "grid_auto_rows": null,
       "grid_column": null,
       "grid_gap": null,
       "grid_row": null,
       "grid_template_areas": null,
       "grid_template_columns": null,
       "grid_template_rows": null,
       "height": null,
       "justify_content": null,
       "justify_items": null,
       "left": null,
       "margin": null,
       "max_height": null,
       "max_width": null,
       "min_height": null,
       "min_width": null,
       "object_fit": null,
       "object_position": null,
       "order": null,
       "overflow": null,
       "overflow_x": null,
       "overflow_y": null,
       "padding": null,
       "right": null,
       "top": null,
       "visibility": null,
       "width": null
      }
     },
     "c3a9e8e349d8455ab964c0498e47de82": {
      "model_module": "@jupyter-widgets/controls",
      "model_module_version": "1.5.0",
      "model_name": "FloatProgressModel",
      "state": {
       "_dom_classes": [],
       "_model_module": "@jupyter-widgets/controls",
       "_model_module_version": "1.5.0",
       "_model_name": "FloatProgressModel",
       "_view_count": null,
       "_view_module": "@jupyter-widgets/controls",
       "_view_module_version": "1.5.0",
       "_view_name": "ProgressView",
       "bar_style": "success",
       "description": "",
       "description_tooltip": null,
       "layout": "IPY_MODEL_0265f88e19b841ffa68a2a26dbe8b90f",
       "max": 44868.0,
       "min": 0.0,
       "orientation": "horizontal",
       "style": "IPY_MODEL_2d9bdd934421483bae35aacddfbd72ea",
       "value": 44868.0
      }
     },
     "d1b72ab218604efcb5d66662f7554a4b": {
      "model_module": "@jupyter-widgets/controls",
      "model_module_version": "1.5.0",
      "model_name": "HBoxModel",
      "state": {
       "_dom_classes": [],
       "_model_module": "@jupyter-widgets/controls",
       "_model_module_version": "1.5.0",
       "_model_name": "HBoxModel",
       "_view_count": null,
       "_view_module": "@jupyter-widgets/controls",
       "_view_module_version": "1.5.0",
       "_view_name": "HBoxView",
       "box_style": "",
       "children": [
        "IPY_MODEL_f7b86c1c76a54f90ae9c8af84c72ccf5",
        "IPY_MODEL_c3a9e8e349d8455ab964c0498e47de82",
        "IPY_MODEL_adcde5c4e29246d2be5c5f249f9ad6f6"
       ],
       "layout": "IPY_MODEL_4d6da40a77f84844a61d764d12079296"
      }
     },
     "dacffec94c374b7b9875be814a3d35c8": {
      "model_module": "@jupyter-widgets/controls",
      "model_module_version": "1.5.0",
      "model_name": "DescriptionStyleModel",
      "state": {
       "_model_module": "@jupyter-widgets/controls",
       "_model_module_version": "1.5.0",
       "_model_name": "DescriptionStyleModel",
       "_view_count": null,
       "_view_module": "@jupyter-widgets/base",
       "_view_module_version": "1.2.0",
       "_view_name": "StyleView",
       "description_width": ""
      }
     },
     "e06577f858544dc7a0d60576348f0899": {
      "model_module": "@jupyter-widgets/controls",
      "model_module_version": "1.5.0",
      "model_name": "HBoxModel",
      "state": {
       "_dom_classes": [],
       "_model_module": "@jupyter-widgets/controls",
       "_model_module_version": "1.5.0",
       "_model_name": "HBoxModel",
       "_view_count": null,
       "_view_module": "@jupyter-widgets/controls",
       "_view_module_version": "1.5.0",
       "_view_name": "HBoxView",
       "box_style": "",
       "children": [
        "IPY_MODEL_093cc2d456d647099c81aeaff26161a3",
        "IPY_MODEL_13fedd2a89a942d583e6bf0dc091c4f9",
        "IPY_MODEL_00a478fc2ee8418f89c0002b005828ec"
       ],
       "layout": "IPY_MODEL_be98aaf7ebad4572b032ddd28ca9b398"
      }
     },
     "f7b86c1c76a54f90ae9c8af84c72ccf5": {
      "model_module": "@jupyter-widgets/controls",
      "model_module_version": "1.5.0",
      "model_name": "HTMLModel",
      "state": {
       "_dom_classes": [],
       "_model_module": "@jupyter-widgets/controls",
       "_model_module_version": "1.5.0",
       "_model_name": "HTMLModel",
       "_view_count": null,
       "_view_module": "@jupyter-widgets/controls",
       "_view_module_version": "1.5.0",
       "_view_name": "HTMLView",
       "description": "",
       "description_tooltip": null,
       "layout": "IPY_MODEL_10c05515f1894220bac7ebed418f68c8",
       "placeholder": "​",
       "style": "IPY_MODEL_545e678b998349e59d0e7bdb4d244be8",
       "value": "100%"
      }
     }
    },
    "version_major": 2,
    "version_minor": 0
   }
  }
 },
 "nbformat": 4,
 "nbformat_minor": 5
}
